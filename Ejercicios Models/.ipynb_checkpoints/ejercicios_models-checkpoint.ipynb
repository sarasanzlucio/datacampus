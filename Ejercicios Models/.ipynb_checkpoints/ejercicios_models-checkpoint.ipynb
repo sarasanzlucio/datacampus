{
 "cells": [
  {
   "cell_type": "markdown",
   "id": "9c43ae55",
   "metadata": {},
   "source": [
    "# DATA CAMPUS BBVA\n",
    "# ANALYTICS"
   ]
  },
  {
   "cell_type": "markdown",
   "id": "297ac12b",
   "metadata": {},
   "source": [
    "## Entrena un modelo - Regresión Logística\n",
    "\n",
    "##### 1. Empleando la librería de python scikit-learn (sklearn), entrena un modelo empleando Regresión Logística sobre el dataset diabetes.csv.\n",
    "- Utiliza un tamaño de test de 33%\n",
    "- Utiliza las primeras 8 columnas como features y la última columna como label"
   ]
  },
  {
   "cell_type": "code",
   "execution_count": null,
   "id": "b0e78a02",
   "metadata": {},
   "outputs": [],
   "source": [
    "import pandas\n",
    "from sklearn import model_selection\n",
    "from sklearn.linear_model import LogisticRegression\n",
    "\n",
    "# Read diabetes csv\n",
    "\n",
    "# Train model\n",
    "\n",
    "# Fit the model on training set"
   ]
  },
  {
   "cell_type": "markdown",
   "id": "a0f38357",
   "metadata": {},
   "source": [
    "### Guarda el modelo \n",
    "\n",
    "##### 2. Guarda el modelo previamente entrenado en un fichero pickle empleando la librería pickle"
   ]
  },
  {
   "cell_type": "code",
   "execution_count": null,
   "id": "0321f027",
   "metadata": {},
   "outputs": [],
   "source": [
    "import pickle\n",
    "\n",
    "# save the model to disk\n"
   ]
  },
  {
   "cell_type": "markdown",
   "id": "c20ba1c6",
   "metadata": {},
   "source": [
    "### Carga el modelo\n",
    "\n",
    "##### 3. Carga el modelo almacenado en el pickle para poder utilizarlo."
   ]
  },
  {
   "cell_type": "code",
   "execution_count": null,
   "id": "99b0b2c8",
   "metadata": {},
   "outputs": [],
   "source": [
    "import pickle\n",
    " \n",
    "# load the model from disk\n",
    " \n",
    "# Now you can use the model\n"
   ]
  },
  {
   "cell_type": "markdown",
   "id": "b0e0a437",
   "metadata": {},
   "source": [
    "## Entrena un modelo - Random Forest\n",
    "\n",
    "##### 1. Empleando la librería de python scikit-learn (sklearn), entrena un modelo empleando Random Forest sobre el dataset petrol_consumption.csv\n",
    "- Utiliza como features las primeras 4 columnas y como label la última.\n",
    "- Utiliza una proporción de test del 20%\n",
    "- Utiliza 20 árboles "
   ]
  },
  {
   "cell_type": "code",
   "execution_count": null,
   "id": "f26b71c2",
   "metadata": {},
   "outputs": [],
   "source": [
    "import pandas as pd\n",
    "from sklearn.ensemble import RandomForestRegressor\n",
    "from sklearn.model_selection import train_test_split\n",
    "\n",
    "# Read petrol_consumption csv\n",
    "\n",
    "# Train the model\n",
    "\n",
    "# Fit the model on training set\n"
   ]
  },
  {
   "cell_type": "markdown",
   "id": "b3c9f8b6",
   "metadata": {},
   "source": [
    "### Guarda el modelo \n",
    "\n",
    "##### 2. Guarda el modelo previamente entrenado en un fichero pickle empleando la librería pickle"
   ]
  },
  {
   "cell_type": "code",
   "execution_count": null,
   "id": "b77f2b10",
   "metadata": {},
   "outputs": [],
   "source": [
    "import pickle\n",
    " \n",
    "# Save the model to disk\n"
   ]
  },
  {
   "cell_type": "markdown",
   "id": "1a888ae9",
   "metadata": {},
   "source": [
    "### Carga el modelo\n",
    "\n",
    "##### 3. Carga el modelo almacenado en el pickle para poder utilizarlo."
   ]
  },
  {
   "cell_type": "code",
   "execution_count": null,
   "id": "dc83a114",
   "metadata": {},
   "outputs": [],
   "source": [
    "import pickle\n",
    "\n",
    "# Load the saved model\n",
    " \n",
    "# Now you can use the model\n"
   ]
  }
 ],
 "metadata": {
  "kernelspec": {
   "display_name": "Python 3 (ipykernel)",
   "language": "python",
   "name": "python3"
  },
  "language_info": {
   "codemirror_mode": {
    "name": "ipython",
    "version": 3
   },
   "file_extension": ".py",
   "mimetype": "text/x-python",
   "name": "python",
   "nbconvert_exporter": "python",
   "pygments_lexer": "ipython3",
   "version": "3.8.12"
  }
 },
 "nbformat": 4,
 "nbformat_minor": 5
}
