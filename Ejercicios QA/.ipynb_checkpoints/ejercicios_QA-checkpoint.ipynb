{
 "cells": [
  {
   "cell_type": "markdown",
   "id": "24d0b37b",
   "metadata": {},
   "source": [
    "# DATA CAMPUS BBVA\n",
    "# ANALYTICS"
   ]
  },
  {
   "cell_type": "markdown",
   "id": "7d578e76",
   "metadata": {},
   "source": [
    "### Tests unitarios\n",
    "\n",
    "##### 1. Realiza el test correspondiente a la función suma() del módulo calculadora.py siguiendo el principio GIVEN, WHEN, THEN:"
   ]
  },
  {
   "cell_type": "code",
   "execution_count": null,
   "id": "308741ee",
   "metadata": {},
   "outputs": [],
   "source": [
    "import pandas as pd\n",
    "import pytest\n",
    "import calculadora as calc\n",
    "\n",
    "#suma\n",
    "def test_suma():\n",
    "    # GIVEN:some context for your test to run in\n",
    " \n",
    "    # WHEN: call your function and capture the result\n",
    " \n",
    "    # THEN: Assert something\n",
    "    "
   ]
  },
  {
   "cell_type": "markdown",
   "id": "2a03ab77",
   "metadata": {},
   "source": [
    "##### 2. Realiza el test unitario correspondiente a la función column_difference() del módulo calculadora.py siguiendo el principio GIVEN, WHEN, THEN:"
   ]
  },
  {
   "cell_type": "code",
   "execution_count": null,
   "id": "af67e6a8",
   "metadata": {},
   "outputs": [],
   "source": [
    "#column_difference\n",
    "def test_column_difference():\n",
    "    # GIVEN:some context for your test to run in\n",
    "   \n",
    "    # WHEN: call your function and capture the result\n",
    "\n",
    "    # THEN: Assert something\n",
    "    "
   ]
  },
  {
   "cell_type": "markdown",
   "id": "87bab0f1",
   "metadata": {},
   "source": [
    "### Tests unitarios: Exceptions\n",
    "\n",
    "##### 2. Realiza el test unitario correspondiente a las funciones division() y capital case() del módulo calculadora.py comprobando lo siguiente:\n",
    "- En el caso de la función division(), comprueba que la operación realizada lance una excepción al dividir por 0.\n",
    "- En el caso de la función capital_case(), comprueba que los argumentos sean únicamente strings."
   ]
  },
  {
   "cell_type": "code",
   "execution_count": null,
   "id": "6e163928",
   "metadata": {},
   "outputs": [],
   "source": [
    "#Testing an exception\n",
    "def test_division_por_cero():\n",
    "    # GIVEN:some context for your test to run in\n",
    "    \n",
    "    \n",
    "\n",
    "#Testing an exception\n",
    "def test_raises_exception_on_non_string_arguments():\n",
    "    \n",
    "    "
   ]
  },
  {
   "cell_type": "markdown",
   "id": "93fbbfcd",
   "metadata": {},
   "source": [
    "### Tests unitarios: Fixtures\n",
    "\n",
    "##### 2. Realiza el test unitario correspondiente a la función column_difference() del módulo calculadora.py, en este caso fijando como fixture el dataframe empleado como argumento de entrada:"
   ]
  },
  {
   "cell_type": "code",
   "execution_count": null,
   "id": "f7372fde",
   "metadata": {},
   "outputs": [],
   "source": [
    "@pytest.fixture(scope=\"module\")\n",
    "def data_input():\n",
    "    # DATAFRAME FIXTURE #\n",
    "\n",
    "\n",
    "#My first fixture\n",
    "def test_column_difference_fixtures(data_input):\n",
    "    # GIVEN:some context for your test to run in\n",
    "    # print(data_input)\n",
    "    \n",
    "    # WHEN: call your function and capture the result\n",
    "    \n",
    "    # THEN: Assert something\n",
    "    "
   ]
  },
  {
   "cell_type": "markdown",
   "id": "d533b898",
   "metadata": {},
   "source": [
    "### Tests unitarios: Fixtures y Mocks\n",
    "\n",
    "##### 2. Realiza el test unitario correspondiente a la función get_df_rename() del módulo calculadora.py, en este caso fijando como fixture el dataframe empleado como argumento de entrada y añadiendo un mock para simular el comportamiento de la función read_sql():"
   ]
  },
  {
   "cell_type": "code",
   "execution_count": null,
   "id": "114cb8c5",
   "metadata": {},
   "outputs": [],
   "source": [
    "@pytest.fixture(scope=\"module\")\n",
    "def data_input():\n",
    "    # DATAFRAME FIXTURE #\n",
    "\n",
    "#My first mock\n",
    "def test_get_df_rename(mocker, data_input):\n",
    "    # GIVEN:some context for your test to run in\n",
    "    \n",
    "    # Mock read_sql\n",
    "    \n",
    "    # WHEN: call your function and capture the result\n",
    "    \n",
    "    # THEN: Assert something\n"
   ]
  }
 ],
 "metadata": {
  "kernelspec": {
   "display_name": "Python 3 (ipykernel)",
   "language": "python",
   "name": "python3"
  },
  "language_info": {
   "codemirror_mode": {
    "name": "ipython",
    "version": 3
   },
   "file_extension": ".py",
   "mimetype": "text/x-python",
   "name": "python",
   "nbconvert_exporter": "python",
   "pygments_lexer": "ipython3",
   "version": "3.8.12"
  }
 },
 "nbformat": 4,
 "nbformat_minor": 5
}
